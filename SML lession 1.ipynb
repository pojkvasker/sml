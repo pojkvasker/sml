{
 "cells": [
  {
   "cell_type": "code",
   "execution_count": 1,
   "metadata": {},
   "outputs": [],
   "source": [
    "import numpy as np\n",
    "import pandas as pd\n",
    "import sklearn.linear_model as skl_lm\n",
    "import matplotlib.pyplot as plt"
   ]
  },
  {
   "cell_type": "markdown",
   "metadata": {},
   "source": [
    "# 2.1 Problem 1.1 using matrix multiplications\n",
    "Implement the linear regression problems from Exercises 1.1(a), (b), (c), (d) and (e) in Python using matrix multiplications.\n",
    "A matrix $$\\textbf{X} =  \\begin{bmatrix}\n",
    "1 & 2 \\\\\n",
    "1 & 3 \\\\ \n",
    "\\end{bmatrix}\n",
    "$$\n",
    "can be constructed with numpy as `X=np.array([[1, 2], [1, 3]])` (Make sure that `numpy` has been imported. Here it is imported as `np`). The commands for matrix multiplication and transpose in `numpy` are `@` or `np.matmul` and `.T` or `np.transpose()` respectively. A system of linear equations $\\textbf{A}x=\\textbf{b}$ can be solved using `np.linalg.solve(A,b)`.  A $k \\times k$ unit matrix can be constructed with `np.eye(k)`.\n"
   ]
  },
  {
   "cell_type": "markdown",
   "metadata": {},
   "source": [
    "## (a)"
   ]
  },
  {
   "cell_type": "code",
   "execution_count": 2,
   "metadata": {
    "scrolled": true
   },
   "outputs": [
    {
     "data": {
      "text/plain": [
       "array([[1.]])"
      ]
     },
     "execution_count": 2,
     "metadata": {},
     "output_type": "execute_result"
    }
   ],
   "source": [
    "X = np.array([[1,2],[1,3]])\n",
    "Y = np.array([[-1],[1]])\n",
    "beta = np.linalg.solve(X.T@X,X.T@Y)\n",
    "pred = beta.T@np.array([[1,3]]).T\n",
    "pred"
   ]
  },
  {
   "cell_type": "markdown",
   "metadata": {},
   "source": [
    "## (b)"
   ]
  },
  {
   "cell_type": "code",
   "execution_count": 3,
   "metadata": {
    "scrolled": true
   },
   "outputs": [
    {
     "data": {
      "text/plain": [
       "array([[3.66666667]])"
      ]
     },
     "execution_count": 3,
     "metadata": {},
     "output_type": "execute_result"
    }
   ],
   "source": [
    "X = np.array([[1,2],[1,3],[1,4]])\n",
    "Y = np.array([[-1],[1],[2]])\n",
    "beta = np.linalg.solve(X.T@X,X.T@Y)\n",
    "pred = beta.T@np.array([[1,5]]).T\n",
    "pred"
   ]
  },
  {
   "cell_type": "markdown",
   "metadata": {},
   "source": [
    "## (c)"
   ]
  },
  {
   "cell_type": "code",
   "execution_count": 4,
   "metadata": {},
   "outputs": [
    {
     "data": {
      "text/plain": [
       "array([[1.55172414]])"
      ]
     },
     "execution_count": 4,
     "metadata": {},
     "output_type": "execute_result"
    }
   ],
   "source": [
    "X = np.array([[2],[3],[4]])\n",
    "Y = np.array([[-1],[1],[2]])\n",
    "beta = np.linalg.solve(X.T@X,X.T@Y)\n",
    "pred = beta@np.array([[5]]).T\n",
    "pred"
   ]
  },
  {
   "cell_type": "markdown",
   "metadata": {},
   "source": [
    "## (d)"
   ]
  },
  {
   "cell_type": "code",
   "execution_count": 5,
   "metadata": {},
   "outputs": [
    {
     "data": {
      "text/plain": [
       "array([[1.76923077]])"
      ]
     },
     "execution_count": 5,
     "metadata": {},
     "output_type": "execute_result"
    }
   ],
   "source": [
    "X = np.array([[1,2],[1,3],[1,4]])\n",
    "Y = np.array([[-1],[1],[2]])\n",
    "I = np.eye(2)\n",
    "beta = np.linalg.solve((X.T@X+I),X.T@Y)\n",
    "pred = beta.T@np.array([[1,5]]).T\n",
    "pred"
   ]
  },
  {
   "cell_type": "markdown",
   "metadata": {},
   "source": [
    "## (e)"
   ]
  },
  {
   "cell_type": "code",
   "execution_count": 6,
   "metadata": {},
   "outputs": [
    {
     "data": {
      "text/plain": [
       "array([[-3.83333333,  1.83333333],\n",
       "       [ 1.5       , -0.5       ]])"
      ]
     },
     "execution_count": 6,
     "metadata": {},
     "output_type": "execute_result"
    }
   ],
   "source": [
    "X = np.array([[1,2],[1,3],[1,4]])\n",
    "Y = np.array([[-1,0],[1,2],[2,-1]])\n",
    "beta = np.linalg.solve(X.T@X,X.T@Y)\n",
    "pred = beta[0].T@np.array([[1,5]]).T\n",
    "beta"
   ]
  },
  {
   "cell_type": "markdown",
   "metadata": {},
   "source": [
    "# 2.2 Problem 1.1 using the linear_model.LinearRegression() command\n",
    "Implement the linear regression problem from Exercises 1.1(b) and (c) using the command `LinearRegression()` from `sklearn.linear_model`. "
   ]
  },
  {
   "cell_type": "markdown",
   "metadata": {},
   "source": [
    "## (b)"
   ]
  },
  {
   "cell_type": "code",
   "execution_count": 7,
   "metadata": {},
   "outputs": [
    {
     "name": "stdout",
     "output_type": "stream",
     "text": [
      "The coeficient for X is :  [[1.5]]\n",
      "The offset is:  [-3.83333333]\n"
     ]
    },
    {
     "data": {
      "image/png": "[encoded data removed]",
      "text/plain": [
       "<Figure size 432x288 with 1 Axes>"
      ]
     },
     "metadata": {},
     "output_type": "display_data"
    }
   ],
   "source": [
    "X = np.array([[2],[3],[4]])\n",
    "Y = np.array([[-1],[1],[2]])\n",
    "lr = skl_lm.LinearRegression()\n",
    "lr.fit(X,Y)\n",
    "hat = lr.predict(X)\n",
    "plt.plot(X,hat)\n",
    "plt.plot(X,Y,'X')\n",
    "print('The coeficient for X is : ', lr.coef_)\n",
    "print('The offset is: ', lr.intercept_)"
   ]
  },
  {
   "cell_type": "markdown",
   "metadata": {},
   "source": [
    "C"
   ]
  },
  {
   "cell_type": "code",
   "execution_count": 8,
   "metadata": {},
   "outputs": [
    {
     "name": "stdout",
     "output_type": "stream",
     "text": [
      "The coeficient for X is :  [[0.31034483]]\n",
      "The offset is:  0.0\n"
     ]
    },
    {
     "data": {
      "image/png": "[encoded data removed]",
      "text/plain": [
       "<Figure size 432x288 with 1 Axes>"
      ]
     },
     "metadata": {},
     "output_type": "display_data"
    }
   ],
   "source": [
    "X = np.array([[2],[3],[4]]).reshape(-1,1)\n",
    "Y = np.array([[-1],[1],[2]])\n",
    "lr = skl_lm.LinearRegression(fit_intercept=False)\n",
    "lr.fit(X, Y)\n",
    "hat = lr.predict(X)\n",
    "plt.plot(X,hat)\n",
    "plt.plot(X,Y,'X')\n",
    "print('The coeficient for X is : ', lr.coef_)\n",
    "print('The offset is: ', lr.intercept_)"
   ]
  },
  {
   "cell_type": "markdown",
   "metadata": {},
   "source": [
    "# 2.3 The Auto data set"
   ]
  },
  {
   "cell_type": "markdown",
   "metadata": {},
   "source": [
    "## (a)\n",
    "Load the dataset `'Data/Auto.csv'`. Familiarize yourself with the dataset using `Auto.info()`. The dataset:  \n",
    "\n",
    "**Description**:  Gas mileage, horsepower, and other information for 392 vehicles.  \n",
    "**Format**: A data frame with 392 observations on the following 9 variables.  \n",
    "\n",
    "- `mpg`: miles per gallon  \n",
    "- `cylinders`: Number of cylinders between 4 and 8\n",
    "- `displacement`: Engine displacement (cu. inches)\n",
    "- `horsepower`: Engine horsepower\n",
    "- `weight`: Vehicle weight (lbs.)\n",
    "- `acceleration`: Time to accelerate from 0 to 60 mph (sec.)\n",
    "- `year`: Model year (modulo 100)\n",
    "- `origin`: Origin of car (1. American, 2. European, 3. Japanese)\n",
    "- `name`: Vehicle name  \n",
    "*The orginal data contained 408 observations but 16 observations with missing values were removed.*\n"
   ]
  },
  {
   "cell_type": "code",
   "execution_count": 9,
   "metadata": {},
   "outputs": [],
   "source": [
    "# Set seed to get reproducible results\n",
    "np.random.seed(1)\n",
    "\n",
    "# a) load library and familiarize with the data\n",
    "# The null values are '?' in the dataset. `na_values=\"?\"` recognize the null values. \n",
    "# There are null values that will mess up the computation. Easier to drop them by `dropna()`.\n",
    "Auto = pd.read_csv('Data/Auto.csv', na_values='?').dropna()\n",
    "\n",
    "# TODO: Familarize yourself with the dataset"
   ]
  },
  {
   "cell_type": "markdown",
   "metadata": {},
   "source": [
    "## (b)\n",
    "Divide the data set randomly into two approximately equally sized subsets, `train` and `test` by generating the random indices using `np.random.choice()`.\n"
   ]
  },
  {
   "cell_type": "code",
   "execution_count": 10,
   "metadata": {},
   "outputs": [],
   "source": [
    "trainI = np.random.choice(Auto.shape[0],size=200, replace=False)\n",
    "trainIndex = Auto.index.isin(trainI)"
   ]
  },
  {
   "cell_type": "code",
   "execution_count": 11,
   "metadata": {},
   "outputs": [
    {
     "data": {
      "text/html": [
       "<div>\n",
       "<style scoped>\n",
       "    .dataframe tbody tr th:only-of-type {\n",
       "        vertical-align: middle;\n",
       "    }\n",
       "\n",
       "    .dataframe tbody tr th {\n",
       "        vertical-align: top;\n",
       "    }\n",
       "\n",
       "    .dataframe thead th {\n",
       "        text-align: right;\n",
       "    }\n",
       "</style>\n",
       "<table border=\"1\" class=\"dataframe\">\n",
       "  <thead>\n",
       "    <tr style=\"text-align: right;\">\n",
       "      <th></th>\n",
       "      <th>mpg</th>\n",
       "      <th>cylinders</th>\n",
       "      <th>displacement</th>\n",
       "      <th>horsepower</th>\n",
       "      <th>weight</th>\n",
       "      <th>acceleration</th>\n",
       "      <th>year</th>\n",
       "      <th>origin</th>\n",
       "      <th>name</th>\n",
       "    </tr>\n",
       "  </thead>\n",
       "  <tbody>\n",
       "    <tr>\n",
       "      <th>1</th>\n",
       "      <td>15.0</td>\n",
       "      <td>8</td>\n",
       "      <td>350.0</td>\n",
       "      <td>165.0</td>\n",
       "      <td>3693</td>\n",
       "      <td>11.5</td>\n",
       "      <td>70</td>\n",
       "      <td>1</td>\n",
       "      <td>buick skylark 320</td>\n",
       "    </tr>\n",
       "    <tr>\n",
       "      <th>2</th>\n",
       "      <td>18.0</td>\n",
       "      <td>8</td>\n",
       "      <td>318.0</td>\n",
       "      <td>150.0</td>\n",
       "      <td>3436</td>\n",
       "      <td>11.0</td>\n",
       "      <td>70</td>\n",
       "      <td>1</td>\n",
       "      <td>plymouth satellite</td>\n",
       "    </tr>\n",
       "    <tr>\n",
       "      <th>3</th>\n",
       "      <td>16.0</td>\n",
       "      <td>8</td>\n",
       "      <td>304.0</td>\n",
       "      <td>150.0</td>\n",
       "      <td>3433</td>\n",
       "      <td>12.0</td>\n",
       "      <td>70</td>\n",
       "      <td>1</td>\n",
       "      <td>amc rebel sst</td>\n",
       "    </tr>\n",
       "    <tr>\n",
       "      <th>7</th>\n",
       "      <td>14.0</td>\n",
       "      <td>8</td>\n",
       "      <td>440.0</td>\n",
       "      <td>215.0</td>\n",
       "      <td>4312</td>\n",
       "      <td>8.5</td>\n",
       "      <td>70</td>\n",
       "      <td>1</td>\n",
       "      <td>plymouth fury iii</td>\n",
       "    </tr>\n",
       "    <tr>\n",
       "      <th>10</th>\n",
       "      <td>15.0</td>\n",
       "      <td>8</td>\n",
       "      <td>383.0</td>\n",
       "      <td>170.0</td>\n",
       "      <td>3563</td>\n",
       "      <td>10.0</td>\n",
       "      <td>70</td>\n",
       "      <td>1</td>\n",
       "      <td>dodge challenger se</td>\n",
       "    </tr>\n",
       "    <tr>\n",
       "      <th>15</th>\n",
       "      <td>22.0</td>\n",
       "      <td>6</td>\n",
       "      <td>198.0</td>\n",
       "      <td>95.0</td>\n",
       "      <td>2833</td>\n",
       "      <td>15.5</td>\n",
       "      <td>70</td>\n",
       "      <td>1</td>\n",
       "      <td>plymouth duster</td>\n",
       "    </tr>\n",
       "    <tr>\n",
       "      <th>20</th>\n",
       "      <td>25.0</td>\n",
       "      <td>4</td>\n",
       "      <td>110.0</td>\n",
       "      <td>87.0</td>\n",
       "      <td>2672</td>\n",
       "      <td>17.5</td>\n",
       "      <td>70</td>\n",
       "      <td>2</td>\n",
       "      <td>peugeot 504</td>\n",
       "    </tr>\n",
       "    <tr>\n",
       "      <th>21</th>\n",
       "      <td>24.0</td>\n",
       "      <td>4</td>\n",
       "      <td>107.0</td>\n",
       "      <td>90.0</td>\n",
       "      <td>2430</td>\n",
       "      <td>14.5</td>\n",
       "      <td>70</td>\n",
       "      <td>2</td>\n",
       "      <td>audi 100 ls</td>\n",
       "    </tr>\n",
       "    <tr>\n",
       "      <th>22</th>\n",
       "      <td>25.0</td>\n",
       "      <td>4</td>\n",
       "      <td>104.0</td>\n",
       "      <td>95.0</td>\n",
       "      <td>2375</td>\n",
       "      <td>17.5</td>\n",
       "      <td>70</td>\n",
       "      <td>2</td>\n",
       "      <td>saab 99e</td>\n",
       "    </tr>\n",
       "    <tr>\n",
       "      <th>24</th>\n",
       "      <td>21.0</td>\n",
       "      <td>6</td>\n",
       "      <td>199.0</td>\n",
       "      <td>90.0</td>\n",
       "      <td>2648</td>\n",
       "      <td>15.0</td>\n",
       "      <td>70</td>\n",
       "      <td>1</td>\n",
       "      <td>amc gremlin</td>\n",
       "    </tr>\n",
       "    <tr>\n",
       "      <th>25</th>\n",
       "      <td>10.0</td>\n",
       "      <td>8</td>\n",
       "      <td>360.0</td>\n",
       "      <td>215.0</td>\n",
       "      <td>4615</td>\n",
       "      <td>14.0</td>\n",
       "      <td>70</td>\n",
       "      <td>1</td>\n",
       "      <td>ford f250</td>\n",
       "    </tr>\n",
       "    <tr>\n",
       "      <th>26</th>\n",
       "      <td>10.0</td>\n",
       "      <td>8</td>\n",
       "      <td>307.0</td>\n",
       "      <td>200.0</td>\n",
       "      <td>4376</td>\n",
       "      <td>15.0</td>\n",
       "      <td>70</td>\n",
       "      <td>1</td>\n",
       "      <td>chevy c20</td>\n",
       "    </tr>\n",
       "    <tr>\n",
       "      <th>30</th>\n",
       "      <td>28.0</td>\n",
       "      <td>4</td>\n",
       "      <td>140.0</td>\n",
       "      <td>90.0</td>\n",
       "      <td>2264</td>\n",
       "      <td>15.5</td>\n",
       "      <td>71</td>\n",
       "      <td>1</td>\n",
       "      <td>chevrolet vega 2300</td>\n",
       "    </tr>\n",
       "    <tr>\n",
       "      <th>33</th>\n",
       "      <td>19.0</td>\n",
       "      <td>6</td>\n",
       "      <td>232.0</td>\n",
       "      <td>100.0</td>\n",
       "      <td>2634</td>\n",
       "      <td>13.0</td>\n",
       "      <td>71</td>\n",
       "      <td>1</td>\n",
       "      <td>amc gremlin</td>\n",
       "    </tr>\n",
       "    <tr>\n",
       "      <th>35</th>\n",
       "      <td>17.0</td>\n",
       "      <td>6</td>\n",
       "      <td>250.0</td>\n",
       "      <td>100.0</td>\n",
       "      <td>3329</td>\n",
       "      <td>15.5</td>\n",
       "      <td>71</td>\n",
       "      <td>1</td>\n",
       "      <td>chevrolet chevelle malibu</td>\n",
       "    </tr>\n",
       "    <tr>\n",
       "      <th>36</th>\n",
       "      <td>19.0</td>\n",
       "      <td>6</td>\n",
       "      <td>250.0</td>\n",
       "      <td>88.0</td>\n",
       "      <td>3302</td>\n",
       "      <td>15.5</td>\n",
       "      <td>71</td>\n",
       "      <td>1</td>\n",
       "      <td>ford torino 500</td>\n",
       "    </tr>\n",
       "    <tr>\n",
       "      <th>37</th>\n",
       "      <td>18.0</td>\n",
       "      <td>6</td>\n",
       "      <td>232.0</td>\n",
       "      <td>100.0</td>\n",
       "      <td>3288</td>\n",
       "      <td>15.5</td>\n",
       "      <td>71</td>\n",
       "      <td>1</td>\n",
       "      <td>amc matador</td>\n",
       "    </tr>\n",
       "    <tr>\n",
       "      <th>40</th>\n",
       "      <td>14.0</td>\n",
       "      <td>8</td>\n",
       "      <td>351.0</td>\n",
       "      <td>153.0</td>\n",
       "      <td>4154</td>\n",
       "      <td>13.5</td>\n",
       "      <td>71</td>\n",
       "      <td>1</td>\n",
       "      <td>ford galaxie 500</td>\n",
       "    </tr>\n",
       "    <tr>\n",
       "      <th>43</th>\n",
       "      <td>13.0</td>\n",
       "      <td>8</td>\n",
       "      <td>400.0</td>\n",
       "      <td>170.0</td>\n",
       "      <td>4746</td>\n",
       "      <td>12.0</td>\n",
       "      <td>71</td>\n",
       "      <td>1</td>\n",
       "      <td>ford country squire (sw)</td>\n",
       "    </tr>\n",
       "    <tr>\n",
       "      <th>45</th>\n",
       "      <td>18.0</td>\n",
       "      <td>6</td>\n",
       "      <td>258.0</td>\n",
       "      <td>110.0</td>\n",
       "      <td>2962</td>\n",
       "      <td>13.5</td>\n",
       "      <td>71</td>\n",
       "      <td>1</td>\n",
       "      <td>amc hornet sportabout (sw)</td>\n",
       "    </tr>\n",
       "    <tr>\n",
       "      <th>46</th>\n",
       "      <td>22.0</td>\n",
       "      <td>4</td>\n",
       "      <td>140.0</td>\n",
       "      <td>72.0</td>\n",
       "      <td>2408</td>\n",
       "      <td>19.0</td>\n",
       "      <td>71</td>\n",
       "      <td>1</td>\n",
       "      <td>chevrolet vega (sw)</td>\n",
       "    </tr>\n",
       "    <tr>\n",
       "      <th>47</th>\n",
       "      <td>19.0</td>\n",
       "      <td>6</td>\n",
       "      <td>250.0</td>\n",
       "      <td>100.0</td>\n",
       "      <td>3282</td>\n",
       "      <td>15.0</td>\n",
       "      <td>71</td>\n",
       "      <td>1</td>\n",
       "      <td>pontiac firebird</td>\n",
       "    </tr>\n",
       "    <tr>\n",
       "      <th>48</th>\n",
       "      <td>18.0</td>\n",
       "      <td>6</td>\n",
       "      <td>250.0</td>\n",
       "      <td>88.0</td>\n",
       "      <td>3139</td>\n",
       "      <td>14.5</td>\n",
       "      <td>71</td>\n",
       "      <td>1</td>\n",
       "      <td>ford mustang</td>\n",
       "    </tr>\n",
       "    <tr>\n",
       "      <th>49</th>\n",
       "      <td>23.0</td>\n",
       "      <td>4</td>\n",
       "      <td>122.0</td>\n",
       "      <td>86.0</td>\n",
       "      <td>2220</td>\n",
       "      <td>14.0</td>\n",
       "      <td>71</td>\n",
       "      <td>1</td>\n",
       "      <td>mercury capri 2000</td>\n",
       "    </tr>\n",
       "    <tr>\n",
       "      <th>50</th>\n",
       "      <td>28.0</td>\n",
       "      <td>4</td>\n",
       "      <td>116.0</td>\n",
       "      <td>90.0</td>\n",
       "      <td>2123</td>\n",
       "      <td>14.0</td>\n",
       "      <td>71</td>\n",
       "      <td>2</td>\n",
       "      <td>opel 1900</td>\n",
       "    </tr>\n",
       "    <tr>\n",
       "      <th>52</th>\n",
       "      <td>30.0</td>\n",
       "      <td>4</td>\n",
       "      <td>88.0</td>\n",
       "      <td>76.0</td>\n",
       "      <td>2065</td>\n",
       "      <td>14.5</td>\n",
       "      <td>71</td>\n",
       "      <td>2</td>\n",
       "      <td>fiat 124b</td>\n",
       "    </tr>\n",
       "    <tr>\n",
       "      <th>53</th>\n",
       "      <td>31.0</td>\n",
       "      <td>4</td>\n",
       "      <td>71.0</td>\n",
       "      <td>65.0</td>\n",
       "      <td>1773</td>\n",
       "      <td>19.0</td>\n",
       "      <td>71</td>\n",
       "      <td>3</td>\n",
       "      <td>toyota corolla 1200</td>\n",
       "    </tr>\n",
       "    <tr>\n",
       "      <th>54</th>\n",
       "      <td>35.0</td>\n",
       "      <td>4</td>\n",
       "      <td>72.0</td>\n",
       "      <td>69.0</td>\n",
       "      <td>1613</td>\n",
       "      <td>18.0</td>\n",
       "      <td>71</td>\n",
       "      <td>3</td>\n",
       "      <td>datsun 1200</td>\n",
       "    </tr>\n",
       "    <tr>\n",
       "      <th>56</th>\n",
       "      <td>26.0</td>\n",
       "      <td>4</td>\n",
       "      <td>91.0</td>\n",
       "      <td>70.0</td>\n",
       "      <td>1955</td>\n",
       "      <td>20.5</td>\n",
       "      <td>71</td>\n",
       "      <td>1</td>\n",
       "      <td>plymouth cricket</td>\n",
       "    </tr>\n",
       "    <tr>\n",
       "      <th>57</th>\n",
       "      <td>24.0</td>\n",
       "      <td>4</td>\n",
       "      <td>113.0</td>\n",
       "      <td>95.0</td>\n",
       "      <td>2278</td>\n",
       "      <td>15.5</td>\n",
       "      <td>72</td>\n",
       "      <td>3</td>\n",
       "      <td>toyota corona hardtop</td>\n",
       "    </tr>\n",
       "    <tr>\n",
       "      <th>...</th>\n",
       "      <td>...</td>\n",
       "      <td>...</td>\n",
       "      <td>...</td>\n",
       "      <td>...</td>\n",
       "      <td>...</td>\n",
       "      <td>...</td>\n",
       "      <td>...</td>\n",
       "      <td>...</td>\n",
       "      <td>...</td>\n",
       "    </tr>\n",
       "    <tr>\n",
       "      <th>335</th>\n",
       "      <td>35.0</td>\n",
       "      <td>4</td>\n",
       "      <td>122.0</td>\n",
       "      <td>88.0</td>\n",
       "      <td>2500</td>\n",
       "      <td>15.1</td>\n",
       "      <td>80</td>\n",
       "      <td>2</td>\n",
       "      <td>triumph tr7 coupe</td>\n",
       "    </tr>\n",
       "    <tr>\n",
       "      <th>337</th>\n",
       "      <td>32.4</td>\n",
       "      <td>4</td>\n",
       "      <td>107.0</td>\n",
       "      <td>72.0</td>\n",
       "      <td>2290</td>\n",
       "      <td>17.0</td>\n",
       "      <td>80</td>\n",
       "      <td>3</td>\n",
       "      <td>honda accord</td>\n",
       "    </tr>\n",
       "    <tr>\n",
       "      <th>340</th>\n",
       "      <td>25.8</td>\n",
       "      <td>4</td>\n",
       "      <td>156.0</td>\n",
       "      <td>92.0</td>\n",
       "      <td>2620</td>\n",
       "      <td>14.4</td>\n",
       "      <td>81</td>\n",
       "      <td>1</td>\n",
       "      <td>dodge aries wagon (sw)</td>\n",
       "    </tr>\n",
       "    <tr>\n",
       "      <th>341</th>\n",
       "      <td>23.5</td>\n",
       "      <td>6</td>\n",
       "      <td>173.0</td>\n",
       "      <td>110.0</td>\n",
       "      <td>2725</td>\n",
       "      <td>12.6</td>\n",
       "      <td>81</td>\n",
       "      <td>1</td>\n",
       "      <td>chevrolet citation</td>\n",
       "    </tr>\n",
       "    <tr>\n",
       "      <th>344</th>\n",
       "      <td>39.0</td>\n",
       "      <td>4</td>\n",
       "      <td>86.0</td>\n",
       "      <td>64.0</td>\n",
       "      <td>1875</td>\n",
       "      <td>16.4</td>\n",
       "      <td>81</td>\n",
       "      <td>1</td>\n",
       "      <td>plymouth champ</td>\n",
       "    </tr>\n",
       "    <tr>\n",
       "      <th>346</th>\n",
       "      <td>32.3</td>\n",
       "      <td>4</td>\n",
       "      <td>97.0</td>\n",
       "      <td>67.0</td>\n",
       "      <td>2065</td>\n",
       "      <td>17.8</td>\n",
       "      <td>81</td>\n",
       "      <td>3</td>\n",
       "      <td>subaru</td>\n",
       "    </tr>\n",
       "    <tr>\n",
       "      <th>347</th>\n",
       "      <td>37.0</td>\n",
       "      <td>4</td>\n",
       "      <td>85.0</td>\n",
       "      <td>65.0</td>\n",
       "      <td>1975</td>\n",
       "      <td>19.4</td>\n",
       "      <td>81</td>\n",
       "      <td>3</td>\n",
       "      <td>datsun 210 mpg</td>\n",
       "    </tr>\n",
       "    <tr>\n",
       "      <th>350</th>\n",
       "      <td>34.7</td>\n",
       "      <td>4</td>\n",
       "      <td>105.0</td>\n",
       "      <td>63.0</td>\n",
       "      <td>2215</td>\n",
       "      <td>14.9</td>\n",
       "      <td>81</td>\n",
       "      <td>1</td>\n",
       "      <td>plymouth horizon 4</td>\n",
       "    </tr>\n",
       "    <tr>\n",
       "      <th>352</th>\n",
       "      <td>29.9</td>\n",
       "      <td>4</td>\n",
       "      <td>98.0</td>\n",
       "      <td>65.0</td>\n",
       "      <td>2380</td>\n",
       "      <td>20.7</td>\n",
       "      <td>81</td>\n",
       "      <td>1</td>\n",
       "      <td>ford escort 2h</td>\n",
       "    </tr>\n",
       "    <tr>\n",
       "      <th>353</th>\n",
       "      <td>33.0</td>\n",
       "      <td>4</td>\n",
       "      <td>105.0</td>\n",
       "      <td>74.0</td>\n",
       "      <td>2190</td>\n",
       "      <td>14.2</td>\n",
       "      <td>81</td>\n",
       "      <td>2</td>\n",
       "      <td>volkswagen jetta</td>\n",
       "    </tr>\n",
       "    <tr>\n",
       "      <th>356</th>\n",
       "      <td>32.4</td>\n",
       "      <td>4</td>\n",
       "      <td>108.0</td>\n",
       "      <td>75.0</td>\n",
       "      <td>2350</td>\n",
       "      <td>16.8</td>\n",
       "      <td>81</td>\n",
       "      <td>3</td>\n",
       "      <td>toyota corolla</td>\n",
       "    </tr>\n",
       "    <tr>\n",
       "      <th>357</th>\n",
       "      <td>32.9</td>\n",
       "      <td>4</td>\n",
       "      <td>119.0</td>\n",
       "      <td>100.0</td>\n",
       "      <td>2615</td>\n",
       "      <td>14.8</td>\n",
       "      <td>81</td>\n",
       "      <td>3</td>\n",
       "      <td>datsun 200sx</td>\n",
       "    </tr>\n",
       "    <tr>\n",
       "      <th>362</th>\n",
       "      <td>24.2</td>\n",
       "      <td>6</td>\n",
       "      <td>146.0</td>\n",
       "      <td>120.0</td>\n",
       "      <td>2930</td>\n",
       "      <td>13.8</td>\n",
       "      <td>81</td>\n",
       "      <td>3</td>\n",
       "      <td>datsun 810 maxima</td>\n",
       "    </tr>\n",
       "    <tr>\n",
       "      <th>363</th>\n",
       "      <td>22.4</td>\n",
       "      <td>6</td>\n",
       "      <td>231.0</td>\n",
       "      <td>110.0</td>\n",
       "      <td>3415</td>\n",
       "      <td>15.8</td>\n",
       "      <td>81</td>\n",
       "      <td>1</td>\n",
       "      <td>buick century</td>\n",
       "    </tr>\n",
       "    <tr>\n",
       "      <th>364</th>\n",
       "      <td>26.6</td>\n",
       "      <td>8</td>\n",
       "      <td>350.0</td>\n",
       "      <td>105.0</td>\n",
       "      <td>3725</td>\n",
       "      <td>19.0</td>\n",
       "      <td>81</td>\n",
       "      <td>1</td>\n",
       "      <td>oldsmobile cutlass ls</td>\n",
       "    </tr>\n",
       "    <tr>\n",
       "      <th>365</th>\n",
       "      <td>20.2</td>\n",
       "      <td>6</td>\n",
       "      <td>200.0</td>\n",
       "      <td>88.0</td>\n",
       "      <td>3060</td>\n",
       "      <td>17.1</td>\n",
       "      <td>81</td>\n",
       "      <td>1</td>\n",
       "      <td>ford granada gl</td>\n",
       "    </tr>\n",
       "    <tr>\n",
       "      <th>367</th>\n",
       "      <td>28.0</td>\n",
       "      <td>4</td>\n",
       "      <td>112.0</td>\n",
       "      <td>88.0</td>\n",
       "      <td>2605</td>\n",
       "      <td>19.6</td>\n",
       "      <td>82</td>\n",
       "      <td>1</td>\n",
       "      <td>chevrolet cavalier</td>\n",
       "    </tr>\n",
       "    <tr>\n",
       "      <th>370</th>\n",
       "      <td>31.0</td>\n",
       "      <td>4</td>\n",
       "      <td>112.0</td>\n",
       "      <td>85.0</td>\n",
       "      <td>2575</td>\n",
       "      <td>16.2</td>\n",
       "      <td>82</td>\n",
       "      <td>1</td>\n",
       "      <td>pontiac j2000 se hatchback</td>\n",
       "    </tr>\n",
       "    <tr>\n",
       "      <th>374</th>\n",
       "      <td>36.0</td>\n",
       "      <td>4</td>\n",
       "      <td>105.0</td>\n",
       "      <td>74.0</td>\n",
       "      <td>1980</td>\n",
       "      <td>15.3</td>\n",
       "      <td>82</td>\n",
       "      <td>2</td>\n",
       "      <td>volkswagen rabbit l</td>\n",
       "    </tr>\n",
       "    <tr>\n",
       "      <th>376</th>\n",
       "      <td>31.0</td>\n",
       "      <td>4</td>\n",
       "      <td>91.0</td>\n",
       "      <td>68.0</td>\n",
       "      <td>1970</td>\n",
       "      <td>17.6</td>\n",
       "      <td>82</td>\n",
       "      <td>3</td>\n",
       "      <td>mazda glc custom</td>\n",
       "    </tr>\n",
       "    <tr>\n",
       "      <th>378</th>\n",
       "      <td>36.0</td>\n",
       "      <td>4</td>\n",
       "      <td>98.0</td>\n",
       "      <td>70.0</td>\n",
       "      <td>2125</td>\n",
       "      <td>17.3</td>\n",
       "      <td>82</td>\n",
       "      <td>1</td>\n",
       "      <td>mercury lynx l</td>\n",
       "    </tr>\n",
       "    <tr>\n",
       "      <th>380</th>\n",
       "      <td>36.0</td>\n",
       "      <td>4</td>\n",
       "      <td>107.0</td>\n",
       "      <td>75.0</td>\n",
       "      <td>2205</td>\n",
       "      <td>14.5</td>\n",
       "      <td>82</td>\n",
       "      <td>3</td>\n",
       "      <td>honda accord</td>\n",
       "    </tr>\n",
       "    <tr>\n",
       "      <th>382</th>\n",
       "      <td>38.0</td>\n",
       "      <td>4</td>\n",
       "      <td>91.0</td>\n",
       "      <td>67.0</td>\n",
       "      <td>1965</td>\n",
       "      <td>15.0</td>\n",
       "      <td>82</td>\n",
       "      <td>3</td>\n",
       "      <td>honda civic</td>\n",
       "    </tr>\n",
       "    <tr>\n",
       "      <th>384</th>\n",
       "      <td>38.0</td>\n",
       "      <td>4</td>\n",
       "      <td>91.0</td>\n",
       "      <td>67.0</td>\n",
       "      <td>1995</td>\n",
       "      <td>16.2</td>\n",
       "      <td>82</td>\n",
       "      <td>3</td>\n",
       "      <td>datsun 310 gx</td>\n",
       "    </tr>\n",
       "    <tr>\n",
       "      <th>387</th>\n",
       "      <td>26.0</td>\n",
       "      <td>4</td>\n",
       "      <td>156.0</td>\n",
       "      <td>92.0</td>\n",
       "      <td>2585</td>\n",
       "      <td>14.5</td>\n",
       "      <td>82</td>\n",
       "      <td>1</td>\n",
       "      <td>chrysler lebaron medallion</td>\n",
       "    </tr>\n",
       "    <tr>\n",
       "      <th>392</th>\n",
       "      <td>27.0</td>\n",
       "      <td>4</td>\n",
       "      <td>140.0</td>\n",
       "      <td>86.0</td>\n",
       "      <td>2790</td>\n",
       "      <td>15.6</td>\n",
       "      <td>82</td>\n",
       "      <td>1</td>\n",
       "      <td>ford mustang gl</td>\n",
       "    </tr>\n",
       "    <tr>\n",
       "      <th>393</th>\n",
       "      <td>44.0</td>\n",
       "      <td>4</td>\n",
       "      <td>97.0</td>\n",
       "      <td>52.0</td>\n",
       "      <td>2130</td>\n",
       "      <td>24.6</td>\n",
       "      <td>82</td>\n",
       "      <td>2</td>\n",
       "      <td>vw pickup</td>\n",
       "    </tr>\n",
       "    <tr>\n",
       "      <th>394</th>\n",
       "      <td>32.0</td>\n",
       "      <td>4</td>\n",
       "      <td>135.0</td>\n",
       "      <td>84.0</td>\n",
       "      <td>2295</td>\n",
       "      <td>11.6</td>\n",
       "      <td>82</td>\n",
       "      <td>1</td>\n",
       "      <td>dodge rampage</td>\n",
       "    </tr>\n",
       "    <tr>\n",
       "      <th>395</th>\n",
       "      <td>28.0</td>\n",
       "      <td>4</td>\n",
       "      <td>120.0</td>\n",
       "      <td>79.0</td>\n",
       "      <td>2625</td>\n",
       "      <td>18.6</td>\n",
       "      <td>82</td>\n",
       "      <td>1</td>\n",
       "      <td>ford ranger</td>\n",
       "    </tr>\n",
       "    <tr>\n",
       "      <th>396</th>\n",
       "      <td>31.0</td>\n",
       "      <td>4</td>\n",
       "      <td>119.0</td>\n",
       "      <td>82.0</td>\n",
       "      <td>2720</td>\n",
       "      <td>19.4</td>\n",
       "      <td>82</td>\n",
       "      <td>1</td>\n",
       "      <td>chevy s-10</td>\n",
       "    </tr>\n",
       "  </tbody>\n",
       "</table>\n",
       "<p>194 rows × 9 columns</p>\n",
       "</div>"
      ],
      "text/plain": [
       "      mpg  cylinders  displacement  horsepower  weight  acceleration  year  \\\n",
       "1    15.0          8         350.0       165.0    3693          11.5    70   \n",
       "2    18.0          8         318.0       150.0    3436          11.0    70   \n",
       "3    16.0          8         304.0       150.0    3433          12.0    70   \n",
       "7    14.0          8         440.0       215.0    4312           8.5    70   \n",
       "10   15.0          8         383.0       170.0    3563          10.0    70   \n",
       "15   22.0          6         198.0        95.0    2833          15.5    70   \n",
       "20   25.0          4         110.0        87.0    2672          17.5    70   \n",
       "21   24.0          4         107.0        90.0    2430          14.5    70   \n",
       "22   25.0          4         104.0        95.0    2375          17.5    70   \n",
       "24   21.0          6         199.0        90.0    2648          15.0    70   \n",
       "25   10.0          8         360.0       215.0    4615          14.0    70   \n",
       "26   10.0          8         307.0       200.0    4376          15.0    70   \n",
       "30   28.0          4         140.0        90.0    2264          15.5    71   \n",
       "33   19.0          6         232.0       100.0    2634          13.0    71   \n",
       "35   17.0          6         250.0       100.0    3329          15.5    71   \n",
       "36   19.0          6         250.0        88.0    3302          15.5    71   \n",
       "37   18.0          6         232.0       100.0    3288          15.5    71   \n",
       "40   14.0          8         351.0       153.0    4154          13.5    71   \n",
       "43   13.0          8         400.0       170.0    4746          12.0    71   \n",
       "45   18.0          6         258.0       110.0    2962          13.5    71   \n",
       "46   22.0          4         140.0        72.0    2408          19.0    71   \n",
       "47   19.0          6         250.0       100.0    3282          15.0    71   \n",
       "48   18.0          6         250.0        88.0    3139          14.5    71   \n",
       "49   23.0          4         122.0        86.0    2220          14.0    71   \n",
       "50   28.0          4         116.0        90.0    2123          14.0    71   \n",
       "52   30.0          4          88.0        76.0    2065          14.5    71   \n",
       "53   31.0          4          71.0        65.0    1773          19.0    71   \n",
       "54   35.0          4          72.0        69.0    1613          18.0    71   \n",
       "56   26.0          4          91.0        70.0    1955          20.5    71   \n",
       "57   24.0          4         113.0        95.0    2278          15.5    72   \n",
       "..    ...        ...           ...         ...     ...           ...   ...   \n",
       "335  35.0          4         122.0        88.0    2500          15.1    80   \n",
       "337  32.4          4         107.0        72.0    2290          17.0    80   \n",
       "340  25.8          4         156.0        92.0    2620          14.4    81   \n",
       "341  23.5          6         173.0       110.0    2725          12.6    81   \n",
       "344  39.0          4          86.0        64.0    1875          16.4    81   \n",
       "346  32.3          4          97.0        67.0    2065          17.8    81   \n",
       "347  37.0          4          85.0        65.0    1975          19.4    81   \n",
       "350  34.7          4         105.0        63.0    2215          14.9    81   \n",
       "352  29.9          4          98.0        65.0    2380          20.7    81   \n",
       "353  33.0          4         105.0        74.0    2190          14.2    81   \n",
       "356  32.4          4         108.0        75.0    2350          16.8    81   \n",
       "357  32.9          4         119.0       100.0    2615          14.8    81   \n",
       "362  24.2          6         146.0       120.0    2930          13.8    81   \n",
       "363  22.4          6         231.0       110.0    3415          15.8    81   \n",
       "364  26.6          8         350.0       105.0    3725          19.0    81   \n",
       "365  20.2          6         200.0        88.0    3060          17.1    81   \n",
       "367  28.0          4         112.0        88.0    2605          19.6    82   \n",
       "370  31.0          4         112.0        85.0    2575          16.2    82   \n",
       "374  36.0          4         105.0        74.0    1980          15.3    82   \n",
       "376  31.0          4          91.0        68.0    1970          17.6    82   \n",
       "378  36.0          4          98.0        70.0    2125          17.3    82   \n",
       "380  36.0          4         107.0        75.0    2205          14.5    82   \n",
       "382  38.0          4          91.0        67.0    1965          15.0    82   \n",
       "384  38.0          4          91.0        67.0    1995          16.2    82   \n",
       "387  26.0          4         156.0        92.0    2585          14.5    82   \n",
       "392  27.0          4         140.0        86.0    2790          15.6    82   \n",
       "393  44.0          4          97.0        52.0    2130          24.6    82   \n",
       "394  32.0          4         135.0        84.0    2295          11.6    82   \n",
       "395  28.0          4         120.0        79.0    2625          18.6    82   \n",
       "396  31.0          4         119.0        82.0    2720          19.4    82   \n",
       "\n",
       "     origin                        name  \n",
       "1         1           buick skylark 320  \n",
       "2         1          plymouth satellite  \n",
       "3         1               amc rebel sst  \n",
       "7         1           plymouth fury iii  \n",
       "10        1         dodge challenger se  \n",
       "15        1             plymouth duster  \n",
       "20        2                 peugeot 504  \n",
       "21        2                 audi 100 ls  \n",
       "22        2                    saab 99e  \n",
       "24        1                 amc gremlin  \n",
       "25        1                   ford f250  \n",
       "26        1                   chevy c20  \n",
       "30        1         chevrolet vega 2300  \n",
       "33        1                 amc gremlin  \n",
       "35        1   chevrolet chevelle malibu  \n",
       "36        1             ford torino 500  \n",
       "37        1                 amc matador  \n",
       "40        1            ford galaxie 500  \n",
       "43        1    ford country squire (sw)  \n",
       "45        1  amc hornet sportabout (sw)  \n",
       "46        1         chevrolet vega (sw)  \n",
       "47        1            pontiac firebird  \n",
       "48        1                ford mustang  \n",
       "49        1          mercury capri 2000  \n",
       "50        2                   opel 1900  \n",
       "52        2                   fiat 124b  \n",
       "53        3         toyota corolla 1200  \n",
       "54        3                 datsun 1200  \n",
       "56        1            plymouth cricket  \n",
       "57        3       toyota corona hardtop  \n",
       "..      ...                         ...  \n",
       "335       2           triumph tr7 coupe  \n",
       "337       3                honda accord  \n",
       "340       1      dodge aries wagon (sw)  \n",
       "341       1          chevrolet citation  \n",
       "344       1              plymouth champ  \n",
       "346       3                      subaru  \n",
       "347       3              datsun 210 mpg  \n",
       "350       1          plymouth horizon 4  \n",
       "352       1              ford escort 2h  \n",
       "353       2            volkswagen jetta  \n",
       "356       3              toyota corolla  \n",
       "357       3                datsun 200sx  \n",
       "362       3           datsun 810 maxima  \n",
       "363       1               buick century  \n",
       "364       1       oldsmobile cutlass ls  \n",
       "365       1             ford granada gl  \n",
       "367       1          chevrolet cavalier  \n",
       "370       1  pontiac j2000 se hatchback  \n",
       "374       2         volkswagen rabbit l  \n",
       "376       3            mazda glc custom  \n",
       "378       1              mercury lynx l  \n",
       "380       3                honda accord  \n",
       "382       3                 honda civic  \n",
       "384       3               datsun 310 gx  \n",
       "387       1  chrysler lebaron medallion  \n",
       "392       1             ford mustang gl  \n",
       "393       2                   vw pickup  \n",
       "394       1               dodge rampage  \n",
       "395       1                 ford ranger  \n",
       "396       1                  chevy s-10  \n",
       "\n",
       "[194 rows x 9 columns]"
      ]
     },
     "execution_count": 11,
     "metadata": {},
     "output_type": "execute_result"
    }
   ],
   "source": [
    "train = Auto.iloc[trainIndex]\n",
    "test = Auto.iloc[~trainIndex]\n",
    "test"
   ]
  },
  {
   "cell_type": "markdown",
   "metadata": {},
   "source": [
    "## (c)\n",
    "Perform linear regression with `mpg` as the output and all other variables except name as input. How well (in terms of root-mean-square-error) does the model perform on test data and training data, respectively?\n"
   ]
  },
  {
   "cell_type": "code",
   "execution_count": 12,
   "metadata": {},
   "outputs": [],
   "source": [
    "def MSE(yhat,y):\n",
    "    mse = np.mean((yhat-y)**2)\n",
    "    return mse"
   ]
  },
  {
   "cell_type": "code",
   "execution_count": 13,
   "metadata": {},
   "outputs": [
    {
     "name": "stdout",
     "output_type": "stream",
     "text": [
      "Train RMSE: 3.282090\n",
      "Test RMSE: 3.336977\n"
     ]
    }
   ],
   "source": [
    "model = skl_lm.LinearRegression()\n",
    "X_train = train[['cylinders', 'displacement', 'horsepower', 'weight',\\\n",
    "'acceleration', 'year', 'origin']]\n",
    "Y_train = train['mpg']\n",
    "X_test = test[['cylinders', 'displacement', 'horsepower', 'weight',\\\n",
    "'acceleration', 'year', 'origin']]\n",
    "Y_test = test['mpg']\n",
    "\n",
    "model.fit(X_train, Y_train)\n",
    "train_hat = model.predict(X_train)\n",
    "test_hat = model.predict(X_test)\n",
    "RMSE_train = np.sqrt(np.mean((train_hat - train.mpg)**2))\n",
    "RMSE_test = np.sqrt(np.mean((test_hat - test.mpg)**2))\n",
    "\n",
    "print('Train RMSE: %2.6f' % RMSE_train)\n",
    "print('Test RMSE: %2.6f' % RMSE_test)"
   ]
  },
  {
   "cell_type": "markdown",
   "metadata": {},
   "source": [
    "## (d)\n",
    "Now, consider the input variable `origin`. What do the different numbers represent? By running `Auto.origin.sample(30)` we see the 30 samples of the variable and that the input variables is quantitative. Does it really makes sense to treat it as a quantitative input? Use `np.get_dummies()` to split it into dummy variables and do the linear regression again.\n"
   ]
  },
  {
   "cell_type": "code",
   "execution_count": 14,
   "metadata": {},
   "outputs": [
    {
     "name": "stdout",
     "output_type": "stream",
     "text": [
      "Train RMSE: 3.262970\n",
      "Test RMSE: 3.310753\n"
     ]
    }
   ],
   "source": [
    "model = skl_lm.LinearRegression()\n",
    "dumTrain = pd.get_dummies(train, columns=['origin'])\n",
    "dumTest = pd.get_dummies(test, columns=['origin'])\n",
    "\n",
    "\n",
    "X_train = dumTrain[['cylinders', 'displacement', 'horsepower', 'weight',\\\n",
    "'acceleration', 'year','origin_1','origin_2','origin_3']]\n",
    "Y_train = dumTrain['mpg']\n",
    "X_test = dumTest[['cylinders', 'displacement', 'horsepower', 'weight',\\\n",
    "'acceleration', 'year','origin_1','origin_2','origin_3']]\n",
    "Y_test = dumTest['mpg']\n",
    "\n",
    "model.fit(X_train, Y_train)\n",
    "train_hat = model.predict(X_train)\n",
    "test_hat = model.predict(X_test)\n",
    "RMSE_train = np.sqrt(np.mean((train_hat - train.mpg)**2))\n",
    "RMSE_test = np.sqrt(np.mean((test_hat - test.mpg)**2))\n",
    "\n",
    "print('Train RMSE: %2.6f' % RMSE_train)\n",
    "print('Test RMSE: %2.6f' % RMSE_test)\n"
   ]
  },
  {
   "cell_type": "markdown",
   "metadata": {},
   "source": [
    "## (e)\n",
    "Try obtain a better RMSE on test data by removing some inputs (explore what happens if you remove, e.g, `year`, `weight` and `acceleration`)"
   ]
  },
  {
   "cell_type": "code",
   "execution_count": 15,
   "metadata": {},
   "outputs": [
    {
     "name": "stdout",
     "output_type": "stream",
     "text": [
      "Train RMSE: 3.433501\n",
      "Test RMSE: 3.390805\n"
     ]
    }
   ],
   "source": [
    "model = skl_lm.LinearRegression()\n",
    "dumTrain = pd.get_dummies(train, columns=['origin'])\n",
    "dumTest = pd.get_dummies(test, columns=['origin'])\n",
    "\n",
    "\n",
    "X_train = dumTrain[['cylinders', 'displacement', 'horsepower', 'weight',\\\n",
    "'acceleration', 'year']]\n",
    "Y_train = dumTrain['mpg']\n",
    "X_test = dumTest[['cylinders', 'displacement', 'horsepower', 'weight',\\\n",
    "'acceleration', 'year']]\n",
    "Y_test = dumTest['mpg']\n",
    "\n",
    "model.fit(X_train, Y_train)\n",
    "train_hat = model.predict(X_train)\n",
    "test_hat = model.predict(X_test)\n",
    "RMSE_train = np.sqrt(np.mean((train_hat - train.mpg)**2))\n",
    "RMSE_test = np.sqrt(np.mean((test_hat - test.mpg)**2))\n",
    "\n",
    "print('Train RMSE: %2.6f' % RMSE_train)\n",
    "print('Test RMSE: %2.6f' % RMSE_test)\n"
   ]
  },
  {
   "cell_type": "markdown",
   "metadata": {},
   "source": [
    "## (f)\n",
    "Try to obtain a better RMSE on test data by adding some transformations of inputs, such as \n",
    "$log(x)$, $\\sqrt{x}$, $x_1x_2$ etc.\n"
   ]
  },
  {
   "cell_type": "code",
   "execution_count": 16,
   "metadata": {},
   "outputs": [
    {
     "name": "stdout",
     "output_type": "stream",
     "text": [
      "Train RMSE: 3.262970\n",
      "Test RMSE: 3.310753\n"
     ]
    }
   ],
   "source": [
    "model = skl_lm.LinearRegression()\n",
    "dumTrain = pd.get_dummies(train, columns=['origin'])\n",
    "dumTest = pd.get_dummies(test, columns=['origin'])\n",
    "\n",
    "\n",
    "X_train = dumTrain[['cylinders', 'displacement', 'horsepower', 'weight',\\\n",
    "'acceleration', 'year','origin_1','origin_2','origin_3']]\n",
    "Y_train = dumTrain['mpg']\n",
    "X_test = dumTest[['cylinders', 'displacement', 'horsepower', 'weight',\\\n",
    "'acceleration', 'year','origin_1','origin_2','origin_3']]\n",
    "Y_test = dumTest['mpg']\n",
    "\n",
    "model.fit(X_train, Y_train)\n",
    "train_hat = model.predict(X_train)\n",
    "test_hat = model.predict(X_test)\n",
    "RMSE_train = np.sqrt(np.mean((train_hat - train.mpg)**2))\n",
    "RMSE_test = np.sqrt(np.mean((test_hat - test.mpg)**2))\n",
    "\n",
    "print('Train RMSE: %2.6f' % RMSE_train)\n",
    "print('Test RMSE: %2.6f' % RMSE_test)\n"
   ]
  },
  {
   "cell_type": "markdown",
   "metadata": {},
   "source": [
    "# 2.4 Nonlinear transformations of input variables"
   ]
  },
  {
   "cell_type": "markdown",
   "metadata": {},
   "source": [
    "Start by running the following code to generate your training data\n",
    "```python\n",
    "np.random.seed(1)\n",
    "x_train = np.random.uniform(0, 10, 100)\n",
    "y_train = .4 - .6 * x_train + 3. * np.sin(x_train - 1.2) + np.random.normal(0, 0.1, 100)\n",
    "```\n"
   ]
  },
  {
   "cell_type": "code",
   "execution_count": 17,
   "metadata": {},
   "outputs": [],
   "source": [
    "np.random.seed(1)\n",
    "x_train = np.random.uniform(0, 10, 100)\n",
    "y_train = .4 - .6 * x_train + 3. * np.sin(x_train - 1.2) + np.random.normal(0, 0.1, 100)"
   ]
  },
  {
   "cell_type": "markdown",
   "metadata": {},
   "source": [
    "## (a) \n",
    "Plot the training output y_train versus the training input x_train.  "
   ]
  },
  {
   "cell_type": "code",
   "execution_count": 18,
   "metadata": {},
   "outputs": [
    {
     "data": {
      "text/plain": [
       "Text(0, 0.5, 'Output')"
      ]
     },
     "execution_count": 18,
     "metadata": {},
     "output_type": "execute_result"
    },
    {
     "data": {
      "image/png": "[encoded data removed]",
      "text/plain": [
       "<Figure size 432x288 with 1 Axes>"
      ]
     },
     "metadata": {},
     "output_type": "display_data"
    }
   ],
   "source": [
    "plt.plot(x_train,y_train,'.')\n",
    "plt.xlabel('Input')\n",
    "plt.ylabel('Output')"
   ]
  },
  {
   "cell_type": "markdown",
   "metadata": {},
   "source": [
    "## (b) \n",
    "Learn a model on the form \n",
    "$$y= a + bx + c sin(x + \\phi) + \\epsilon,  \\qquad  \\epsilon \\sim \\mathcal{N}(0, 0,1^2) \\qquad (2.1)$$\n",
    "\n",
    "where all parameters $a$, $b$, $c$ and $\\phi$ are to be learned from the training data `x_train` and `y_train`. Refrain from using the` linear_model()` command, but implement the normal equations yourself as in problem 2.1. Hint: Even though (2.1) is not a linear regression model, you can use the fact that $c sin(x + \\phi) = c cos(\\phi) sin(x) + c sin(\\phi) cos(x)$ to transform it into one.  \n"
   ]
  },
  {
   "cell_type": "code",
   "execution_count": 64,
   "metadata": {},
   "outputs": [
    {
     "name": "stdout",
     "output_type": "stream",
     "text": [
      "[[ 0.42117995]\n",
      " [-0.60266039]\n",
      " [ 1.08808499]\n",
      " [-2.78869453]]\n"
     ]
    },
    {
     "data": {
      "image/png": "[encoded data removed]",
      "text/plain": [
       "<Figure size 432x288 with 1 Axes>"
      ]
     },
     "metadata": {},
     "output_type": "display_data"
    }
   ],
   "source": [
    "A = np.column_stack([np.ones(len(x_train)),x_train,\\\n",
    "     np.sin(x_train),np.cos(x_train)])\n",
    "y_train = np.array(y_train).reshape(-1,1)\n",
    "\n",
    "beta = np.linalg.solve(A.T@A,A.T@y_train)\n",
    "y_hat = A@beta\n",
    "plt.plot(x_train, y_hat,'.',label='Prediction')\n",
    "plt.plot(x_train, y_train, '.',label='True')\n",
    "plt.legend()\n",
    "print(beta)"
   ]
  },
  {
   "cell_type": "markdown",
   "metadata": {},
   "source": [
    "## (c) \n",
    "Construct 100 test inputs `x_test` in the span from 0 to 10 by using the `np.linspace()` function. Predict the outputs corresponding to these inputs and plot them together with the training data."
   ]
  },
  {
   "cell_type": "code",
   "execution_count": 65,
   "metadata": {},
   "outputs": [
    {
     "data": {
      "image/png": "[encoded data removed]",
      "text/plain": [
       "<Figure size 432x288 with 1 Axes>"
      ]
     },
     "metadata": {},
     "output_type": "display_data"
    }
   ],
   "source": [
    "np.random.seed(1)\n",
    "x_test = np.random.uniform(0,10,100)\n",
    "A_test = np.column_stack([np.repeat(1,100),x_test,\\\n",
    "                     np.sin(x_test),np.cos(x_test)])\n",
    "\n",
    "y_hat = A_test@beta\n",
    "plt.plot(x_test, y_hat,'.',label='Test')\n",
    "\n",
    "plt.plot(x_train, y_train, '.',label='True')\n",
    "plt.legend()\n",
    "plt.show()"
   ]
  },
  {
   "cell_type": "markdown",
   "metadata": {},
   "source": [
    "## (d) \n",
    "Do a least squares fit by instead using the `linear_model()` function in `Python`. Check that you get the same estimates as in (b)."
   ]
  },
  {
   "cell_type": "code",
   "execution_count": 68,
   "metadata": {},
   "outputs": [
    {
     "data": {
      "image/png": "[encoded data removed]",
      "text/plain": [
       "<Figure size 432x288 with 1 Axes>"
      ]
     },
     "metadata": {},
     "output_type": "display_data"
    },
    {
     "name": "stdout",
     "output_type": "stream",
     "text": [
      "[[ 1.00000000e+00  4.17022005e+00 -8.56591538e-01 -5.15995094e-01]\n",
      " [ 1.00000000e+00  7.20324493e+00  7.95637742e-01  6.05772716e-01]\n",
      " [ 1.00000000e+00  1.14374817e-03  1.14374792e-03  9.99999346e-01]\n",
      " [ 1.00000000e+00  3.02332573e+00  1.17991419e-01 -9.93014615e-01]\n",
      " [ 1.00000000e+00  1.46755891e+00  9.94675749e-01  1.03054133e-01]\n",
      " [ 1.00000000e+00  9.23385948e-01  7.97648331e-01  6.03122824e-01]\n",
      " [ 1.00000000e+00  1.86260211e+00  9.57725945e-01 -2.87682142e-01]\n",
      " [ 1.00000000e+00  3.45560727e+00 -3.08879422e-01 -9.51101205e-01]\n",
      " [ 1.00000000e+00  3.96767474e+00 -7.35281611e-01 -6.77761723e-01]\n",
      " [ 1.00000000e+00  5.38816734e+00 -7.80220320e-01  6.25504798e-01]\n",
      " [ 1.00000000e+00  4.19194514e+00 -8.67598561e-01 -4.97265259e-01]\n",
      " [ 1.00000000e+00  6.85219500e+00  5.38798047e-01  8.42434962e-01]\n",
      " [ 1.00000000e+00  2.04452250e+00  8.89874571e-01 -4.56205269e-01]\n",
      " [ 1.00000000e+00  8.78117436e+00  6.00081987e-01 -7.99938503e-01]\n",
      " [ 1.00000000e+00  2.73875932e-01  2.70464934e-01  9.62729827e-01]\n",
      " [ 1.00000000e+00  6.70467510e+00  4.09120315e-01  9.12480448e-01]\n",
      " [ 1.00000000e+00  4.17304802e+00 -8.58047333e-01 -5.13570613e-01]\n",
      " [ 1.00000000e+00  5.58689828e+00 -6.41373411e-01  7.67228875e-01]\n",
      " [ 1.00000000e+00  1.40386939e+00  9.86100020e-01  1.66152795e-01]\n",
      " [ 1.00000000e+00  1.98101489e+00  9.17033679e-01 -3.98809768e-01]\n",
      " [ 1.00000000e+00  8.00744569e+00  9.88247485e-01 -1.52862384e-01]\n",
      " [ 1.00000000e+00  9.68261576e+00 -2.54990421e-01 -9.66943579e-01]\n",
      " [ 1.00000000e+00  3.13424178e+00  7.35080580e-03 -9.99972982e-01]\n",
      " [ 1.00000000e+00  6.92322616e+00  5.97228206e-01  8.02071362e-01]\n",
      " [ 1.00000000e+00  8.76389152e+00  6.13816890e-01 -7.89448431e-01]\n",
      " [ 1.00000000e+00  8.94606664e+00  4.60635745e-01 -8.87589269e-01]\n",
      " [ 1.00000000e+00  8.50442114e-01  7.51572119e-01  6.59650930e-01]\n",
      " [ 1.00000000e+00  3.90547832e-01  3.80695053e-01  9.24700642e-01]\n",
      " [ 1.00000000e+00  1.69830420e+00  9.91881880e-01 -1.27162640e-01]\n",
      " [ 1.00000000e+00  8.78142503e+00  5.99881448e-01 -8.00088901e-01]\n",
      " [ 1.00000000e+00  9.83468338e-01  8.32424314e-01  5.54138756e-01]\n",
      " [ 1.00000000e+00  4.21107625e+00 -8.76952449e-01 -4.80577154e-01]\n",
      " [ 1.00000000e+00  9.57889530e+00 -1.53507962e-01 -9.88147411e-01]\n",
      " [ 1.00000000e+00  5.33165285e+00 -8.14305954e-01  5.80435882e-01]\n",
      " [ 1.00000000e+00  6.91877114e+00  5.93649050e-01  8.04724056e-01]\n",
      " [ 1.00000000e+00  3.15515631e+00 -1.35632406e-02 -9.99908015e-01]\n",
      " [ 1.00000000e+00  6.86500928e+00  5.49548707e-01  8.35461680e-01]\n",
      " [ 1.00000000e+00  8.34625672e+00  8.81259862e-01 -4.72632051e-01]\n",
      " [ 1.00000000e+00  1.82882773e-01  1.81865024e-01  9.83323504e-01]\n",
      " [ 1.00000000e+00  7.50144315e+00  9.38499246e-01  3.45281283e-01]\n",
      " [ 1.00000000e+00  9.88861089e+00 -4.47379342e-01 -8.94344298e-01]\n",
      " [ 1.00000000e+00  7.48165654e+00  9.31484038e-01  3.63782198e-01]\n",
      " [ 1.00000000e+00  2.80443992e+00  3.30801470e-01 -9.43700370e-01]\n",
      " [ 1.00000000e+00  7.89279328e+00  9.99246922e-01 -3.88019073e-02]\n",
      " [ 1.00000000e+00  1.03226007e+00  8.58460323e-01  5.12879980e-01]\n",
      " [ 1.00000000e+00  4.47893526e+00 -9.72873219e-01 -2.31338927e-01]\n",
      " [ 1.00000000e+00  9.08595503e+00  3.32377173e-01 -9.43146550e-01]\n",
      " [ 1.00000000e+00  2.93614148e+00  2.04008862e-01 -9.78969042e-01]\n",
      " [ 1.00000000e+00  2.87775339e+00  2.60788878e-01 -9.65395857e-01]\n",
      " [ 1.00000000e+00  1.30028572e+00  9.63634576e-01  2.67223509e-01]\n",
      " [ 1.00000000e+00  1.93669579e-01  1.92461157e-01  9.81304592e-01]\n",
      " [ 1.00000000e+00  6.78835533e+00  4.83956232e-01  8.75092204e-01]\n",
      " [ 1.00000000e+00  2.11628116e+00  8.54875844e-01 -5.18832624e-01]\n",
      " [ 1.00000000e+00  2.65546659e+00  4.67204261e-01 -8.84149410e-01]\n",
      " [ 1.00000000e+00  4.91573159e+00 -9.79397029e-01  2.01944198e-01]\n",
      " [ 1.00000000e+00  5.33625451e-01  5.08658077e-01  8.60968618e-01]\n",
      " [ 1.00000000e+00  5.74117605e+00 -5.15858306e-01  8.56673922e-01]\n",
      " [ 1.00000000e+00  1.46728575e+00  9.94647562e-01  1.03325834e-01]\n",
      " [ 1.00000000e+00  5.89305537e+00 -3.80308593e-01  9.24859651e-01]\n",
      " [ 1.00000000e+00  6.99758360e+00  6.55162953e-01  7.55487594e-01]\n",
      " [ 1.00000000e+00  1.02334429e+00  8.53853540e-01  5.20513335e-01]\n",
      " [ 1.00000000e+00  4.14055988e+00 -8.40912525e-01 -5.41171068e-01]\n",
      " [ 1.00000000e+00  6.94400158e+00  6.13761495e-01  7.89491499e-01]\n",
      " [ 1.00000000e+00  4.14179270e+00 -8.41579051e-01 -5.40133966e-01]\n",
      " [ 1.00000000e+00  4.99534589e-01  4.79017051e-01  8.77805597e-01]\n",
      " [ 1.00000000e+00  5.35896406e+00 -7.98151841e-01  6.02456337e-01]\n",
      " [ 1.00000000e+00  6.63794645e+00  3.47366394e-01  9.37729486e-01]\n",
      " [ 1.00000000e+00  5.14889112e+00 -9.06236002e-01  4.22772171e-01]\n",
      " [ 1.00000000e+00  9.44594756e+00 -2.11680180e-02 -9.99775932e-01]\n",
      " [ 1.00000000e+00  5.86555041e+00 -4.05599770e-01  9.14050779e-01]\n",
      " [ 1.00000000e+00  9.03401915e+00  3.80890134e-01 -9.24620304e-01]\n",
      " [ 1.00000000e+00  1.37474704e+00  9.80843813e-01  1.94795827e-01]\n",
      " [ 1.00000000e+00  1.39276347e+00  9.84193966e-01  1.77093864e-01]\n",
      " [ 1.00000000e+00  8.07391289e+00  9.75912450e-01 -2.18162533e-01]\n",
      " [ 1.00000000e+00  3.97676837e+00 -7.41414437e-01 -6.71047414e-01]\n",
      " [ 1.00000000e+00  1.65354197e+00  9.96578532e-01 -8.26512523e-02]\n",
      " [ 1.00000000e+00  9.27508580e+00  1.49133739e-01 -9.88817035e-01]\n",
      " [ 1.00000000e+00  3.47765860e+00 -3.29775671e-01 -9.44059324e-01]\n",
      " [ 1.00000000e+00  7.50812103e+00  9.40784051e-01  3.39006444e-01]\n",
      " [ 1.00000000e+00  7.25997985e+00  8.28707597e-01  5.59681801e-01]\n",
      " [ 1.00000000e+00  8.83306091e+00  5.57786968e-01 -8.29984156e-01]\n",
      " [ 1.00000000e+00  6.23672207e+00 -4.64465207e-02  9.98920778e-01]\n",
      " [ 1.00000000e+00  7.50942434e+00  9.41225082e-01  3.37780024e-01]\n",
      " [ 1.00000000e+00  3.48898342e+00 -3.40445600e-01 -9.40264215e-01]\n",
      " [ 1.00000000e+00  2.69927892e+00  4.28031680e-01 -9.03763731e-01]\n",
      " [ 1.00000000e+00  8.95886218e+00  4.49241156e-01 -8.93410535e-01]\n",
      " [ 1.00000000e+00  4.28091190e+00 -9.08349006e-01 -4.18212964e-01]\n",
      " [ 1.00000000e+00  9.64840047e+00 -2.21763382e-01 -9.75100509e-01]\n",
      " [ 1.00000000e+00  6.63441498e+00  3.44052667e-01  9.38950351e-01]\n",
      " [ 1.00000000e+00  6.21695720e+00 -6.61797012e-02  9.97807721e-01]\n",
      " [ 1.00000000e+00  1.14745973e+00  9.11723328e-01  4.10804788e-01]\n",
      " [ 1.00000000e+00  9.49489259e+00 -7.00571925e-02 -9.97542976e-01]\n",
      " [ 1.00000000e+00  4.49912133e+00 -9.77344521e-01 -2.11654640e-01]\n",
      " [ 1.00000000e+00  5.78389614e+00 -4.78801600e-01  8.77923133e-01]\n",
      " [ 1.00000000e+00  4.08136803e+00 -8.07425598e-01 -5.89969409e-01]\n",
      " [ 1.00000000e+00  2.37026980e+00  6.97084318e-01 -7.16989158e-01]\n",
      " [ 1.00000000e+00  9.03379521e+00  3.81097191e-01 -9.24534981e-01]\n",
      " [ 1.00000000e+00  5.73679487e+00 -5.19606593e-01  8.54405635e-01]\n",
      " [ 1.00000000e+00  2.87032703e-02  2.86993291e-02  9.99588089e-01]\n",
      " [ 1.00000000e+00  6.17144914e+00 -1.11503812e-01  9.93764006e-01]]\n"
     ]
    }
   ],
   "source": [
    "model = skl_lm.LinearRegression()\n",
    "model.fit(A_test,y_train)\n",
    "pred = model.predict(A_test)\n",
    "\n",
    "plt.plot(x_train, y_train, '.', label='data')\n",
    "plt.plot(x_test, y_hat, '.', label='LinReg (normal eqs)')\n",
    "plt.plot(x_test, pred, '.', label='LinReg (built-in-func)')\n",
    "plt.legend()\n",
    "plt.show()\n",
    "print(A_test)"
   ]
  },
  {
   "cell_type": "markdown",
   "metadata": {},
   "source": [
    "# 2.5  Regularization"
   ]
  },
  {
   "cell_type": "markdown",
   "metadata": {},
   "source": [
    "In this exercise we will apply Ridge regression and Lasso for fitting a polynomial to a scalar data set. We will have a setting where we first generate synthetic training data from \n",
    "\n",
    "$$y = x^3 + 2x^2 + 6 + \\epsilon, \\qquad (2.2)$$ and later try to learn model for the data.   "
   ]
  },
  {
   "cell_type": "markdown",
   "metadata": {},
   "source": [
    "## (a) \n",
    "Write a function that implements the polynomial (2.2), i.e., takes $x$ as argument and returns $x^3 + 2x^2 + 6$. "
   ]
  },
  {
   "cell_type": "code",
   "execution_count": 72,
   "metadata": {},
   "outputs": [],
   "source": [
    "def f(x):\n",
    "    return x**3 + 2*x**2 +6\n"
   ]
  },
  {
   "cell_type": "code",
   "execution_count": 73,
   "metadata": {},
   "outputs": [
    {
     "data": {
      "text/plain": [
       "22"
      ]
     },
     "execution_count": 73,
     "metadata": {},
     "output_type": "execute_result"
    }
   ],
   "source": [
    "f(2)"
   ]
  },
  {
   "cell_type": "markdown",
   "metadata": {},
   "source": [
    "## (b) \n",
    "Use `np.random.seed()` to set the random seed. Use the function `np.linspace()` to construct a vector `x` with `n = 12` elements equally spaced from $-2.3$ to $1$. Then use your function from (a) to construct a vector $\\textbf{y} = [y_1, ..., y_n]^T$ with 12 elements, where $y = x^3 + 2x^2 + 6 + \\epsilon$, with $\\epsilon \\sim  \\mathcal{N(0, 1^2)}$. This is our training data."
   ]
  },
  {
   "cell_type": "code",
   "execution_count": 88,
   "metadata": {},
   "outputs": [],
   "source": [
    "np.random.seed(0)\n",
    "x_train = np.linspace(-2.3, 1, 12)\n",
    "y_train = f(x) + np.random.normal(0,1,12)"
   ]
  },
  {
   "cell_type": "markdown",
   "metadata": {},
   "source": [
    "## (c) \n",
    "Plot the training data $\\mathcal{T} = \\{x_i, y_i\\}_{i=1}^{12}$ together with the \"true\" function."
   ]
  },
  {
   "cell_type": "code",
   "execution_count": 89,
   "metadata": {},
   "outputs": [
    {
     "data": {
      "image/png": "[encoded data removed]",
      "text/plain": [
       "<Figure size 432x288 with 1 Axes>"
      ]
     },
     "metadata": {},
     "output_type": "display_data"
    }
   ],
   "source": [
    "x_test = np.linspace(-2.3, 1, 12)\n",
    "y_test = f(x_test)\n",
    "\n",
    "plt.plot(x_train, y_train, '.')\n",
    "plt.plot(x_test, y_test)\n",
    "plt.show()"
   ]
  },
  {
   "cell_type": "markdown",
   "metadata": {},
   "source": [
    "## (d)\n",
    "Fit a straight line to the data with $y$ as output and $x$ as input and plot the predicted output $\\hat{y}_{\\star}$ for densely spaced $x_{\\star}$ values between $-2.3$ and $1$. Plot these predictions in the same plot window."
   ]
  },
  {
   "cell_type": "code",
   "execution_count": 94,
   "metadata": {},
   "outputs": [
    {
     "data": {
      "text/plain": [
       "[<matplotlib.lines.Line2D at 0x7f42b8671470>]"
      ]
     },
     "execution_count": 94,
     "metadata": {},
     "output_type": "execute_result"
    },
    {
     "data": {
      "image/png": "[encoded data removed]",
      "text/plain": [
       "<Figure size 432x288 with 1 Axes>"
      ]
     },
     "metadata": {},
     "output_type": "display_data"
    }
   ],
   "source": [
    "model = skl_lm.LinearRegression()\n",
    "model.fit(x_train.reshape(-1,1), y_train)\n",
    "prediction = model.predict(x_test.reshape(-1,1))\n",
    "\n",
    "plt.plot(x_train, y_train, '.', label='data')\n",
    "plt.plot(x_test, y_test, label='true')\n",
    "plt.plot(x_test, prediction, label='lin reg')"
   ]
  },
  {
   "cell_type": "markdown",
   "metadata": {},
   "source": [
    "## (e) \n",
    "Fit a 11th degree polynomial to the data with linear regression. Plot the corresponding predictions."
   ]
  },
  {
   "cell_type": "code",
   "execution_count": 100,
   "metadata": {},
   "outputs": [
    {
     "name": "stdout",
     "output_type": "stream",
     "text": [
      "[-2.30000000e+00  5.29000000e+00 -1.21670000e+01  2.79841000e+01\n",
      " -6.43634300e+01  1.48035889e+02 -3.40482545e+02  7.83109853e+02\n",
      " -1.80115266e+03  4.14265112e+03 -9.52809758e+03]\n",
      "[-2.30000000e+00  5.29000000e+00 -1.21670000e+01  2.79841000e+01\n",
      " -6.43634300e+01  1.48035889e+02 -3.40482545e+02  7.83109853e+02\n",
      " -1.80115266e+03  4.14265112e+03 -9.52809758e+03]\n"
     ]
    }
   ],
   "source": [
    "x_train_ext = x_train.reshape(-1,1)\n",
    "x_test_ext = x_test.reshape(-1,1)\n",
    "\n",
    "for i in range(10):\n",
    "    x_train_ext = np.column_stack([x_train_ext, \\\n",
    "                                  x_train.reshape(-1,1)**(i+2)])\n",
    "    x_test_ext = np.column_stack([x_test_ext,\\\n",
    "                                 x_test.reshape(-1,1)**(i+2)])\n",
    "print(x_train_ext[0,:])\n",
    "print(x_test_ext[0,:])"
   ]
  },
  {
   "cell_type": "code",
   "execution_count": 117,
   "metadata": {},
   "outputs": [
    {
     "data": {
      "image/png": "[encoded data removed]",
      "text/plain": [
       "<Figure size 432x288 with 1 Axes>"
      ]
     },
     "metadata": {},
     "output_type": "display_data"
    }
   ],
   "source": [
    "model = skl_lm.LinearRegression()\n",
    "model.fit(x_train_ext, y_train)\n",
    "prediction = model.predict(x_test_ext)\n",
    "\n",
    "plt.plot(x_train, y_train, '.', label='data')\n",
    "plt.plot(x_test, y_test, label='true')\n",
    "plt.plot(x_test, prediction, label='linreg w transf variables')\n",
    "plt.legend()\n",
    "plt.show()"
   ]
  },
  {
   "cell_type": "markdown",
   "metadata": {},
   "source": [
    "## (f) \n",
    "\n",
    "Use the fucntion `sklearn.linear_model.Ridge` and `sklearn.linear_model.Lasso` to fit a 11th degree polynomial. Also inspect the estimated coefficients. Try different values of penalty term $\\alpha$. What do you observe?\n"
   ]
  },
  {
   "cell_type": "code",
   "execution_count": 119,
   "metadata": {
    "scrolled": false
   },
   "outputs": [
    {
     "data": {
      "image/png": "[encoded data removed]",
      "text/plain": [
       "<Figure size 432x288 with 1 Axes>"
      ]
     },
     "metadata": {},
     "output_type": "display_data"
    }
   ],
   "source": [
    "#Ridge\n",
    "model = skl_lm.Ridge(alpha=1)\n",
    "model.fit(x_train_ext, y_train)\n",
    "predicton = model.predict(x_test_ext)\n",
    "\n",
    "plt.plot(x_train, y_train,'.',label='data')\n",
    "plt.plot(x_test, y_test, label='true')\n",
    "plt.plot(x_test, prediction, label='linreg w Ridge')\n",
    "plt.legend()\n",
    "plt.show()"
   ]
  },
  {
   "cell_type": "code",
   "execution_count": null,
   "metadata": {},
   "outputs": [],
   "source": []
  }
 ],
 "metadata": {
  "kernelspec": {
   "display_name": "Python 3",
   "language": "python",
   "name": "python3"
  },
  "language_info": {
   "codemirror_mode": {
    "name": "ipython",
    "version": 3
   },
   "file_extension": ".py",
   "mimetype": "text/x-python",
   "name": "python",
   "nbconvert_exporter": "python",
   "pygments_lexer": "ipython3",
   "version": "3.6.7"
  }
 },
 "nbformat": 4,
 "nbformat_minor": 2
}
