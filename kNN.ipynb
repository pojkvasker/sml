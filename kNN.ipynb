{
 "cells": [
  {
   "cell_type": "code",
   "execution_count": 1,
   "metadata": {},
   "outputs": [],
   "source": [
    "import pandas as pd\n",
    "import numpy as np\n",
    "import matplotlib.pyplot as plt\n",
    "import sklearn.preprocessing as skl_pre\n",
    "import sklearn.linear_model as skl_lm\n",
    "import sklearn.discriminant_analysis as skl_da\n",
    "import sklearn.neighbors as skl_nb"
   ]
  },
  {
   "cell_type": "code",
   "execution_count": 44,
   "metadata": {},
   "outputs": [
    {
     "data": {
      "image/png": "[encoded data removed]",
      "text/plain": [
       "<Figure size 432x288 with 1 Axes>"
      ]
     },
     "metadata": {},
     "output_type": "display_data"
    },
    {
     "name": "stdout",
     "output_type": "stream",
     "text": [
      "\n",
      "365\n"
     ]
    }
   ],
   "source": [
    "np.random.seed(420)\n",
    "songs = pd.read_csv('training_data.csv', na_values='?', dtype={'ID': str}).dropna().reset_index()\n",
    "classify_songs =  pd.read_csv('songs_to_classify.csv', na_values='?', dtype={'ID': str}).dropna().reset_index()\n",
    "#Dividing training data using crossfold\n",
    "randomize_indices = np.random.choice(songs.shape[0], songs.shape[0], replace=False) \n",
    "dummies = pd.get_dummies(songs, columns=['key','time_signature'])\n",
    "m = 365\n",
    "folds = 30\n",
    "correctness = []\n",
    "\n",
    "for j in range(folds):\n",
    "    n=np.ceil(songs.shape[0]/folds)\n",
    "    validationIndex=np.arange(j*n, min(j*n+n,songs.shape[0]), 1).astype('int')\n",
    "    randomize_validationIndex = randomize_indices[validationIndex]\n",
    "    train = dummies.iloc[~dummies.index.isin(randomize_validationIndex)]\n",
    "    test = dummies.iloc[dummies.index.isin(randomize_validationIndex)]  \n",
    "    xTrain = train.drop(columns=['label','index'])\n",
    "    yTrain = train['label']\n",
    "    xTest = test.drop(columns=['label','index'])\n",
    "    yTest = test['label']\n",
    "    \n",
    "\n",
    "    for k in range(m): \n",
    "        knn = skl_nb.KNeighborsClassifier(n_neighbors=k+1)\n",
    "        knn.fit(xTrain, yTrain)\n",
    "        pred = knn.predict(xTest)\n",
    "        correctness.append(np.mean(pred==yTest))\n",
    "avgCorr = []\n",
    "for i in range(m):\n",
    "    avgCorr.append(np.mean(correctness[i]))\n",
    "K = np.linspace(1, m, m)\n",
    "plt.plot(K, avgCorr)\n",
    "plt.show()\n",
    "print(avgCorr.index(max(avgCorr)))\n",
    "print(max(avgCorr))"
   ]
  },
  {
   "cell_type": "code",
   "execution_count": 45,
   "metadata": {
    "scrolled": true
   },
   "outputs": [
    {
     "name": "stdout",
     "output_type": "stream",
     "text": [
      "98\n",
      "0.84\n"
     ]
    }
   ],
   "source": [
    "print(avgCorr.index(max(avgCorr)))\n",
    "print(max(avgCorr))"
   ]
  },
  {
   "cell_type": "code",
   "execution_count": 36,
   "metadata": {},
   "outputs": [
    {
     "name": "stdout",
     "output_type": "stream",
     "text": [
      "[0 1 1 1 0 1 1 1 1 0 1 1 0 1 0 0 0 1 1 1 1 0 0 1 1 0 0 1 1 0 1 0 1 1 0 0 1\n",
      " 1 1 0 1 0 1 1 1 0 0 1 1 1 1 1 1 1 0 1 1 1 1 1 1 1 1 0 1 1 1 0 1 1 1 1 1 1\n",
      " 1 1 0 1 0 0 0 1 1 0 1 1 1 0 1 1 1 1 1 1 1 1 1 1 1 1 1 0 1 1 1 1 1 1 1 1 1\n",
      " 0 1 0 0 0 1 0 1 0 1 1 1 1 0 1 1 0 1 0 1 1 1 1 1 1 1 1 0 0 1 0 1 1 1 1 1 0\n",
      " 1 0 1 1 1 0 0 0 1 1 1 1 1 0 1 1 1 0 1 1 1 1 1 1 1 1 0 1 0 0 1 1 1 1 1 1 0\n",
      " 1 1 1 1 1 1 0 1 1 1 1 0 0 1 1]\n"
     ]
    }
   ],
   "source": [
    "#mygel\n",
    "#optimal neighbors = 99\n",
    "trainI = np.random.choice(songs.shape[0],size=750, replace=False)\n",
    "trainIndex = songs.index.isin(trainI)\n",
    "train = songs.iloc[trainIndex]\n",
    "test = songs.iloc[~trainIndex]\n",
    "#Training data\n",
    "dummies = pd.get_dummies(songs, columns=['key','time_signature'])\n",
    "train = dummies.iloc[trainIndex]\n",
    "xTrain = train.drop(columns=['label','index'])\n",
    "yTrain = train['label']\n",
    "knn = skl_nb.KNeighborsClassifier(n_neighbors=99)\n",
    "\n",
    "knn.fit(xTrain,yTrain)\n",
    "\n",
    "dummies = pd.get_dummies(classify_songs, columns=['key','time_signature'])\n",
    "classSongs = dummies.drop(columns=['index'])\n",
    "\n",
    "pred = knn.predict(classSongs)\n",
    "print(pred)"
   ]
  },
  {
   "cell_type": "code",
   "execution_count": 38,
   "metadata": {},
   "outputs": [
    {
     "data": {
      "text/plain": [
       "'[0111011110110100011110011001101011001\\n1101011100111111101111111101110111111\\n1101000110111011111111111110111111111\\n0100010101111011010111111110010111110\\n1011100011111011101111111101001111110\\n111111011110011]'"
      ]
     },
     "execution_count": 38,
     "metadata": {},
     "output_type": "execute_result"
    }
   ],
   "source": [
    "string = np.array2string(pred)\n",
    "string.replace(\" \", \"\")"
   ]
  },
  {
   "cell_type": "code",
   "execution_count": 41,
   "metadata": {},
   "outputs": [
    {
     "ename": "SyntaxError",
     "evalue": "invalid token (<ipython-input-41-68a3ddaaa269>, line 1)",
     "output_type": "error",
     "traceback": [
      "\u001b[0;36m  File \u001b[0;32m\"<ipython-input-41-68a3ddaaa269>\"\u001b[0;36m, line \u001b[0;32m1\u001b[0m\n\u001b[0;31m    01110111101101000111100110011010110011101011100111111101111111101110111111110100011011101111111111111011111111101000101011110110101111111100101111101011100011111011101111111101001111110111111011110011\u001b[0m\n\u001b[0m                                                                                                                                                                                                           ^\u001b[0m\n\u001b[0;31mSyntaxError\u001b[0m\u001b[0;31m:\u001b[0m invalid token\n"
     ]
    }
   ],
   "source": [
    "01110111101101000111100110011010110011101011100111111101111111101110111111110100011011101111111111111011111111101000101011110110101111111100101111101011100011111011101111111101001111110111111011110011"
   ]
  }
 ],
 "metadata": {
  "kernelspec": {
   "display_name": "Python 3",
   "language": "python",
   "name": "python3"
  },
  "language_info": {
   "codemirror_mode": {
    "name": "ipython",
    "version": 3
   },
   "file_extension": ".py",
   "mimetype": "text/x-python",
   "name": "python",
   "nbconvert_exporter": "python",
   "pygments_lexer": "ipython3",
   "version": "3.6.7"
  }
 },
 "nbformat": 4,
 "nbformat_minor": 2
}
