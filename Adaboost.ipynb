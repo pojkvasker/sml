{
 "cells": [
  {
   "cell_type": "code",
   "execution_count": 1,
   "metadata": {},
   "outputs": [],
   "source": [
    "import pandas as pd\n",
    "import numpy as np\n",
    "import matplotlib\n",
    "import matplotlib.pyplot as plt\n",
    "from sklearn import tree\n",
    "from sklearn.ensemble import AdaBoostClassifier, GradientBoostingClassifier\n"
   ]
  },
  {
   "cell_type": "code",
   "execution_count": 3,
   "metadata": {},
   "outputs": [],
   "source": [
    "np.random.seed(420)\n",
    "songs = pd.read_csv('training_data.csv', na_values='?', dtype={'ID': str}).dropna().reset_index()\n",
    "classify_songs =  pd.read_csv('songs_to_classify.csv', na_values='?', dtype={'ID': str}).dropna().reset_index()"
   ]
  },
  {
   "cell_type": "code",
   "execution_count": 31,
   "metadata": {},
   "outputs": [
    {
     "data": {
      "image/png": "[encoded data removed]",
      "text/plain": [
       "<Figure size 432x288 with 1 Axes>"
      ]
     },
     "metadata": {},
     "output_type": "display_data"
    }
   ],
   "source": [
    "np.random.seed(420)\n",
    "songs = pd.read_csv('training_data.csv', na_values='?', dtype={'ID': str}).dropna().reset_index()\n",
    "classify_songs =  pd.read_csv('songs_to_classify.csv', na_values='?', dtype={'ID': str}).dropna().reset_index()\n",
    "#Dividing training data using crossfold\n",
    "randomize_indices = np.random.choice(songs.shape[0], songs.shape[0], replace=False) \n",
    "dummies = pd.get_dummies(songs, columns=['key','time_signature'])\n",
    "\n",
    "folds = 10\n",
    "est = 300\n",
    "correctness = np.zeros((est,folds))\n",
    "\n",
    "for j in range(folds):\n",
    "    n=np.ceil(songs.shape[0]/folds)\n",
    "    validationIndex=np.arange(j*n, min(j*n+n,songs.shape[0]), 1).astype('int')\n",
    "    randomize_validationIndex = randomize_indices[validationIndex]\n",
    "    train = dummies.iloc[~songs.index.isin(randomize_validationIndex)]\n",
    "    test = dummies.iloc[randomize_validationIndex]  \n",
    "    xTrain = train.drop(columns=['label','index'])\n",
    "    yTrain = train['label']\n",
    "    xTest = test.drop(columns=['label','index'])\n",
    "    yTest = test['label']\n",
    "    \n",
    "    for i in range(est):\n",
    "        ada = AdaBoostClassifier(n_estimators=i+1)\n",
    "        ada.fit(xTrain, yTrain)\n",
    "        pred = ada.predict(xTest)\n",
    "        correctness[i][j]=np.mean(pred==yTest)\n",
    "avgCorr = []\n",
    "for i in range(est):\n",
    "    avgCorr.append(np.mean(correctness[i][:]))\n",
    "K = np.linspace(1,est,est)\n",
    "plt.plot(K,avgCorr)\n",
    "plt.show()"
   ]
  },
  {
   "cell_type": "code",
   "execution_count": 32,
   "metadata": {},
   "outputs": [
    {
     "name": "stdout",
     "output_type": "stream",
     "text": [
      "0.808\n",
      "61\n"
     ]
    }
   ],
   "source": [
    "print(np.max(avgCorr))\n",
    "maxIndex=avgCorr.index(max(avgCorr))\n",
    "print(maxIndex)"
   ]
  },
  {
   "cell_type": "code",
   "execution_count": 36,
   "metadata": {},
   "outputs": [
    {
     "name": "stdout",
     "output_type": "stream",
     "text": [
      "[0 0 0 1 0 0 1 1 0 0 1 0 0 1 1 0 1 0 1 1 0 0 1 1 0 0 1 1 1 1 1 0 1 1 1 1 1\n",
      " 1 0 1 0 0 0 1 1 1 0 1 1 0 0 0 1 1 0 1 1 0 0 0 1 0 1 0 0 1 1 1 1 0 1 0 1 1\n",
      " 0 1 0 1 1 0 1 1 0 1 0 1 1 1 1 0 1 0 1 0 1 0 1 1 1 1 1 0 1 1 0 1 0 1 1 1 1\n",
      " 1 1 0 1 1 1 0 1 0 0 1 1 0 1 1 1 0 1 0 1 0 1 1 1 1 1 1 1 1 1 0 1 0 1 1 0 0\n",
      " 1 0 1 1 0 0 1 1 1 1 1 0 1 1 0 1 1 0 1 1 1 1 1 1 1 0 0 0 1 0 1 0 1 1 1 1 1\n",
      " 1 1 0 1 0 0 1 1 0 1 0 0 1 1 1]\n"
     ]
    }
   ],
   "source": [
    "#mygelvinst\n",
    "#optimal estimators = 61\n",
    "trainI = np.random.choice(songs.shape[0],size=750, replace=False)\n",
    "trainIndex = songs.index.isin(trainI)\n",
    "train = songs.iloc[trainIndex]\n",
    "test = songs.iloc[~trainIndex]\n",
    "#Training data\n",
    "dummies = pd.get_dummies(songs, columns=['key','time_signature'])\n",
    "train = dummies.iloc[trainIndex]\n",
    "xTrain = train.drop(columns=['label','index'])\n",
    "yTrain = train['label']\n",
    "ada = AdaBoostClassifier(n_estimators=61)\n",
    "\n",
    "ada.fit(xTrain,yTrain)\n",
    "\n",
    "dummies = pd.get_dummies(classify_songs, columns=['key','time_signature'])\n",
    "classSongs = dummies.drop(columns=['index'])\n",
    "\n",
    "pred = ada.predict(classSongs)\n",
    "print(pred)"
   ]
  },
  {
   "cell_type": "code",
   "execution_count": 38,
   "metadata": {},
   "outputs": [
    {
     "data": {
      "text/plain": [
       "'[0001001100100110101100110011111011111\\n1010001110110001101100010100111101011\\n0101101101011110101010111110110101111\\n1101110100110111010101111111110101100\\n1011001111101101101111111000101011111\\n110100110100111]'"
      ]
     },
     "execution_count": 38,
     "metadata": {},
     "output_type": "execute_result"
    }
   ],
   "source": [
    "string = np.array2string(pred)\n",
    "string.replace(\" \", \"\")"
   ]
  },
  {
   "cell_type": "code",
   "execution_count": null,
   "metadata": {},
   "outputs": [],
   "source": [
    "00010011001001101011001100111110111111010001110110001101100010100111101011010110110101111010101011111011010111111011101001101110101011111111101011001011001111101101101111111000101011111110100110100111"
   ]
  }
 ],
 "metadata": {
  "kernelspec": {
   "display_name": "Python 3",
   "language": "python",
   "name": "python3"
  },
  "language_info": {
   "codemirror_mode": {
    "name": "ipython",
    "version": 3
   },
   "file_extension": ".py",
   "mimetype": "text/x-python",
   "name": "python",
   "nbconvert_exporter": "python",
   "pygments_lexer": "ipython3",
   "version": "3.6.7"
  }
 },
 "nbformat": 4,
 "nbformat_minor": 2
}
